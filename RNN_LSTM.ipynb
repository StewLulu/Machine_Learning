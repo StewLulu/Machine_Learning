{
  "nbformat": 4,
  "nbformat_minor": 0,
  "metadata": {
    "colab": {
      "name": "RNN-LSTM.ipynb",
      "provenance": [],
      "authorship_tag": "ABX9TyOY3x+nsJutzY5wPrVeAO4g",
      "include_colab_link": true
    },
    "kernelspec": {
      "name": "python3",
      "display_name": "Python 3"
    }
  },
  "cells": [
    {
      "cell_type": "markdown",
      "metadata": {
        "id": "view-in-github",
        "colab_type": "text"
      },
      "source": [
        "<a href=\"https://colab.research.google.com/github/StewLulu/Machine_Learning/blob/master/RNN_LSTM.ipynb\" target=\"_parent\"><img src=\"https://colab.research.google.com/assets/colab-badge.svg\" alt=\"Open In Colab\"/></a>"
      ]
    },
    {
      "cell_type": "code",
      "metadata": {
        "id": "MNhy3-yHeEin",
        "colab_type": "code",
        "colab": {
          "base_uri": "https://localhost:8080/",
          "height": 50
        },
        "outputId": "7eec56df-ec75-4eb8-b7d7-ec85d7d44e6b"
      },
      "source": [
        "import os\n",
        "import tensorflow as tf\n",
        "import numpy as np\n",
        "from tensorflow import keras\n",
        "from tensorflow.keras import layers\n",
        "tf.random.set_seed(22)\n",
        "np.random.seed(22)\n",
        "os.environ['TF_CPP_MIN_LOG_LEVEL']='2'\n",
        "assert tf.__version__.startswith('2.')\n",
        "total_words = 10000 #常见单词数量\n",
        "max_review_len = 80 #句子长度\n",
        "embedding_len = 100\n",
        "batchsz = 128\n",
        "\n",
        "(x_train,y_train), (x_test, y_test) = keras.datasets.imdb.load_data(num_words=total_words)\n",
        "# padding 截取长句子长度，扩充短句子长度，维持相同的长度\n",
        "# =>x_train:[b,80] x_test:[b,80] \n",
        "x_train = keras.preprocessing.sequence.pad_sequences(x_train, maxlen=max_review_len)\n",
        "x_test = keras.preprocessing.sequence.pad_sequences(x_test, maxlen=max_review_len)\n",
        "# 过滤掉最后循环少于batchsz的那部分数据集\n",
        "db_train = tf.data.Dataset.from_tensor_slices((x_train, y_train))\n",
        "db_train = db_train.shuffle(1000).batch(batchsz, drop_remainder=True)\n",
        "db_test = tf.data.Dataset.from_tensor_slices((x_test, y_test))\n",
        "db_test = db_test.batch(batchsz, drop_remainder=True)"
      ],
      "execution_count": 1,
      "outputs": [
        {
          "output_type": "stream",
          "text": [
            "Downloading data from https://storage.googleapis.com/tensorflow/tf-keras-datasets/imdb.npz\n",
            "17465344/17464789 [==============================] - 1s 0us/step\n"
          ],
          "name": "stdout"
        }
      ]
    },
    {
      "cell_type": "code",
      "metadata": {
        "id": "y8rakS0fiFnY",
        "colab_type": "code",
        "colab": {}
      },
      "source": [
        "embedding_len=100 #一个单词用100维向量表示\n",
        "class MyRNN(keras.Model):\n",
        "\n",
        "  def __init__(self,units):\n",
        "    super(MyRNN,self).__init__()\n",
        "    #[b,64]=0\n",
        "    self.state0 = [tf.zeros([batchsz,units]),tf.zeros([batchsz,units])]#c,h\n",
        "    self.state1 = [tf.zeros([batchsz,units]),tf.zeros([batchsz,units])]\n",
        "    #transorm text to embedding representation\n",
        "    #[b,80]=>[b,80,100]\n",
        "    self.embedding = layers.Embedding(total_words,embedding_len,\n",
        "                      input_length=max_review_len)\n",
        "    #[b,80,100]=> h_dim=64\n",
        "    # self.rnn_cell0 = layers.SimpleRNNCell(units,dropout=0.2) #train才要dropout\n",
        "    # self.rnn_cell1 = layers.SimpleRNNCell(units,dropout=0.2)\n",
        "    self.rnn_cell0 = layers.LSTMCell(units,dropout=0.5) #train才要dropout\n",
        "    self.rnn_cell1 = layers.LSTMCell(units,dropout=0.5)  \n",
        "    #[b,64]=>[b,1]\n",
        "    self.outlayer = layers.Dense(1)\n",
        "\n",
        "  def call(self,inputs,training=None):\n",
        "    # inputs:[b,80]\n",
        "    x = inputs\n",
        "    # embedding:[b,80] =>[b,80,100]\n",
        "    x = self.embedding(x)\n",
        "    # rnn cell:[b,80,100] => [b,64] 句子所有单词的所有信息\n",
        "    state0 = self.state0\n",
        "    state1 = self.state1\n",
        "    for word in tf.unstack(x, axis=1): \n",
        "      # ht= xt * wxh + ht-1 * whh\n",
        "      out0, state0= self.rnn_cell0(word,state0,training)\n",
        "      out1, state1= self.rnn_cell1(out0,state1)\n",
        "    #最后得到out:[b,64]，包含句子所有单词的所有信息\n",
        "    #out[b,64]=>[b,1] 二分类\n",
        "    x = self.outlayer(out1)\n",
        "    #输出0~1之间的概率prob\n",
        "    prob = tf.sigmoid(x)\n",
        "    return prob"
      ],
      "execution_count": 0,
      "outputs": []
    },
    {
      "cell_type": "code",
      "metadata": {
        "id": "liYJtvO-jQPS",
        "colab_type": "code",
        "colab": {
          "base_uri": "https://localhost:8080/",
          "height": 188
        },
        "outputId": "09969950-2149-405e-e7fc-fa50cab1e81e"
      },
      "source": [
        "if __name__ == '__main__':\n",
        "    units = 64 #h_dim\n",
        "    epochs = 4\n",
        "    model = MyRNN(units)\n",
        "    model.compile(optimizer = keras.optimizers.Adam(0.001),\n",
        "           loss = tf.losses.BinaryCrossentropy(),\n",
        "           metrics=['accuracy'])\n",
        "    model.fit(db_train,epochs=epochs,validation_data=db_test)\n",
        "    model.evaluate(db_test)"
      ],
      "execution_count": 8,
      "outputs": [
        {
          "output_type": "stream",
          "text": [
            "Epoch 1/4\n",
            "195/195 [==============================] - 45s 232ms/step - loss: 0.4772 - accuracy: 0.7591 - val_loss: 0.3598 - val_accuracy: 0.8402\n",
            "Epoch 2/4\n",
            "195/195 [==============================] - 42s 217ms/step - loss: 0.3124 - accuracy: 0.8700 - val_loss: 0.3739 - val_accuracy: 0.8379\n",
            "Epoch 3/4\n",
            "195/195 [==============================] - 42s 215ms/step - loss: 0.2617 - accuracy: 0.8962 - val_loss: 0.3792 - val_accuracy: 0.8371\n",
            "Epoch 4/4\n",
            "195/195 [==============================] - 42s 217ms/step - loss: 0.2220 - accuracy: 0.9131 - val_loss: 0.4262 - val_accuracy: 0.8331\n",
            "195/195 [==============================] - 10s 53ms/step - loss: 0.4262 - accuracy: 0.8331\n"
          ],
          "name": "stdout"
        }
      ]
    }
  ]
}